{
    "cells": [
        {
            "cell_type": "markdown",
            "metadata": {},
            "source": [
                "# 1. PSD(Power Spectral Density)"
            ]
        },
        {
            "cell_type": "markdown",
            "metadata": {},
            "source": [
                "# 2. DE(Differential Entropy)"
            ]
        },
        {
            "cell_type": "code",
            "execution_count": 1,
            "metadata": {},
            "outputs": [],
            "source": [
                "import os\n",
                "import numpy as np\n",
                "import math\n",
                "import scipy.io as sio\n",
                "from scipy.fftpack import fft,ifft\n",
                "\n",
                "def DE_PSD(data,stft_para):\n",
                "    '''\n",
                "    compute DE and PSD\n",
                "    --------\n",
                "    input:  data [n*m]          n electrodes, m time points\n",
                "            stft_para.stftn     frequency domain sampling rate\n",
                "            stft_para.fStart    start frequency of each frequency band\n",
                "            stft_para.fEnd      end frequency of each frequency band\n",
                "            stft_para.window    window length of each sample point(seconds)\n",
                "            stft_para.fs        original frequency\n",
                "    output: psd,DE [n*l*k]        n electrodes, l windows, k frequency bands\n",
                "    '''\n",
                "    #initialize the parameters\n",
                "    STFTN=stft_para['stftn']\n",
                "    fStart=stft_para['fStart']\n",
                "    fEnd=stft_para['fEnd']\n",
                "    fs=stft_para['fs']\n",
                "    window=stft_para['window']\n",
                "\n",
                "    WindowPoints=fs*window\n",
                "\n",
                "    fStartNum=np.zeros([len(fStart)],dtype=int)\n",
                "    fEndNum=np.zeros([len(fEnd)],dtype=int)\n",
                "    for i in range(0,len(stft_para['fStart'])):\n",
                "        fStartNum[i]=int(fStart[i]/fs*STFTN)\n",
                "        fEndNum[i]=int(fEnd[i]/fs*STFTN)\n",
                "\n",
                "    #print(fStartNum[0],fEndNum[0])\n",
                "    n=data.shape[0]\n",
                "    m=data.shape[1]\n",
                "\n",
                "    l = math.floor(m / WindowPoints)\n",
                "\n",
                "    psd = np.zeros([n, l, len(fStart)])\n",
                "    de = np.zeros([n, l, len(fStart)])\n",
                "    #Hanning window\n",
                "    Hwindow= np.hanning(WindowPoints)\n",
                "\n",
                "    for j in range(n):\n",
                "        for i in range(l):\n",
                "            temp = data[j, WindowPoints*i : WindowPoints*(i+1)]\n",
                "            Hdata = temp * Hwindow\n",
                "            FFTdata = fft(Hdata, STFTN)\n",
                "            magFFTdata = abs(FFTdata[0:int(STFTN/2)])\n",
                "            for p in range(len(fStart)):\n",
                "                E = 0\n",
                "                for p0 in range(fStartNum[p], fEndNum[p]+1):\n",
                "                    E = E + magFFTdata[p0] * magFFTdata[p0]\n",
                "                \n",
                "                E = E/(fEndNum[p]-fStartNum[p]+1)\n",
                "                psd[j][i][p] = E\n",
                "                de[j][i][p] = math.log(100*E,2)\n",
                "    \n",
                "    return psd,de\n"
            ]
        },
        {
            "cell_type": "code",
            "execution_count": 2,
            "metadata": {},
            "outputs": [
                {
                    "name": "stdout",
                    "output_type": "stream",
                    "text": [
                        "chenyi\n"
                    ]
                },
                {
                    "name": "stderr",
                    "output_type": "stream",
                    "text": [
                        "  0%|          | 0/360 [00:00<?, ?it/s]"
                    ]
                },
                {
                    "name": "stdout",
                    "output_type": "stream",
                    "text": [
                        "0\n"
                    ]
                },
                {
                    "name": "stderr",
                    "output_type": "stream",
                    "text": [
                        "100%|██████████| 360/360 [03:30<00:00,  1.71it/s]\n",
                        "  0%|          | 0/360 [00:00<?, ?it/s]"
                    ]
                },
                {
                    "name": "stdout",
                    "output_type": "stream",
                    "text": [
                        "1\n"
                    ]
                },
                {
                    "name": "stderr",
                    "output_type": "stream",
                    "text": [
                        "100%|██████████| 360/360 [03:30<00:00,  1.71it/s]\n",
                        "  0%|          | 0/360 [00:00<?, ?it/s]"
                    ]
                },
                {
                    "name": "stdout",
                    "output_type": "stream",
                    "text": [
                        "2\n"
                    ]
                },
                {
                    "name": "stderr",
                    "output_type": "stream",
                    "text": [
                        "100%|██████████| 360/360 [03:35<00:00,  1.67it/s]\n",
                        "  0%|          | 0/360 [00:00<?, ?it/s]"
                    ]
                },
                {
                    "name": "stdout",
                    "output_type": "stream",
                    "text": [
                        "3\n"
                    ]
                },
                {
                    "name": "stderr",
                    "output_type": "stream",
                    "text": [
                        "100%|██████████| 360/360 [03:39<00:00,  1.64it/s]\n",
                        "  0%|          | 0/360 [00:00<?, ?it/s]"
                    ]
                },
                {
                    "name": "stdout",
                    "output_type": "stream",
                    "text": [
                        "4\n"
                    ]
                },
                {
                    "name": "stderr",
                    "output_type": "stream",
                    "text": [
                        "100%|██████████| 360/360 [03:34<00:00,  1.68it/s]\n",
                        "  0%|          | 0/360 [00:00<?, ?it/s]"
                    ]
                },
                {
                    "name": "stdout",
                    "output_type": "stream",
                    "text": [
                        "5\n"
                    ]
                },
                {
                    "name": "stderr",
                    "output_type": "stream",
                    "text": [
                        "100%|██████████| 360/360 [03:34<00:00,  1.68it/s]\n"
                    ]
                },
                {
                    "name": "stdout",
                    "output_type": "stream",
                    "text": [
                        "(6, 360, 62, 5, 5)\n",
                        "(6, 360, 62, 5, 5)\n"
                    ]
                }
            ],
            "source": [
                "import simdkalman\n",
                "from tqdm import tqdm\n",
                "\n",
                "kf = simdkalman.KalmanFilter(\n",
                "    state_transition = np.array([[1,1],[0,1]]),\n",
                "    process_noise = np.diag([0.1, 0.01]),\n",
                "    observation_model = np.array([[1,0]]),\n",
                "    observation_noise = 1.0)\n",
                "\n",
                "# names = ['chenyi', 'huangwenjing', 'huangxingbao', 'huatong', 'wuwenrui', 'yinhao']\n",
                "names = ['chenyi']\n",
                "for name in names:\n",
                "    npy_path = r\"D:\\bcmi\\EMBC\\eeg_process\\npydata_ff\\{}_data.npy\".format(name)\n",
                "\n",
                "    subj_name = name\n",
                "    print(subj_name)\n",
                "\n",
                "    data_all = np.load(npy_path)\n",
                "\n",
                "    # 6 * (1, 360, 62, 5, 5)\n",
                "    data_psd = []\n",
                "    data_de = []\n",
                "    for b in range(6):\n",
                "        print(b)\n",
                "        data = data_all[b]\n",
                "        # print(data.shape)\n",
                "\n",
                "        stft_para = {'stftn':512, 'fStart':[1, 4, 8, 14, 31], 'fEnd':[4, 8, 14, 31, 50], 'fs':200, 'window':1}\n",
                "\n",
                "        # 360 * (1, 62, 5, 5)\n",
                "        data_psd_b = []\n",
                "        data_de_b = []\n",
                "        for case in tqdm(range(360)):\n",
                "            psd, de = DE_PSD(data[case], stft_para)\n",
                "            for c in range(62):\n",
                "                psd[c] = psd[c].T\n",
                "                de[c] = de[c].T\n",
                "                for fb in range(5):\n",
                "                    psd[c, fb] = kf.smooth(psd[c, fb]).observations.mean\n",
                "                    de[c, fb] = kf.smooth(de[c, fb]).observations.mean\n",
                "                \n",
                "            data_psd_b.append(np.expand_dims(psd, axis=0))\n",
                "            data_de_b.append(np.expand_dims(de, axis=0))\n",
                "\n",
                "        data_psd_b = np.concatenate(data_psd_b, axis=0)\n",
                "        data_de_b = np.concatenate(data_de_b, axis=0)\n",
                "\n",
                "        data_psd.append(np.expand_dims(data_psd_b, axis=0))\n",
                "        data_de.append(np.expand_dims(data_de_b, axis=0))\n",
                "\n",
                "    data_psd = np.concatenate(data_psd, axis=0)\n",
                "    data_de = np.concatenate(data_de, axis=0)\n",
                "\n",
                "    print(data_psd.shape)\n",
                "    print(data_de.shape)\n",
                "\n",
                "    out_dir = './npydata_ff'\n",
                "    if not os.path.exists(out_dir):\n",
                "        os.makedirs(out_dir)\n",
                "\n",
                "    np.save(out_dir+'/{}_data_psd.npy'.format(subj_name), data_psd)\n",
                "    np.save(out_dir+'/{}_data_de.npy'.format(subj_name), data_de)"
            ]
        },
        {
            "cell_type": "code",
            "execution_count": null,
            "metadata": {},
            "outputs": [],
            "source": [
                "import simdkalman\n",
                "import matplotlib.pyplot as plt\n",
                "\n",
                "kf = simdkalman.KalmanFilter(\n",
                "    state_transition = np.array([[1,1],[0,1]]),\n",
                "    process_noise = np.diag([0.1, 0.01]),\n",
                "    observation_model = np.array([[1,0]]),\n",
                "    observation_noise = 1.0)\n",
                "\n",
                "npy_path = r\"D:\\bcmi\\EMBC\\eeg_process\\npydata_new\\chenyi_data.npy\"\n",
                "\n",
                "data = np.load(npy_path)[0][0]\n",
                "\n",
                "stft_para = {'stftn':512, 'fStart':[1, 4, 8, 14, 31], 'fEnd':[4, 8, 14, 31, 50], 'fs':200, 'window':1}\n",
                "\n",
                "psd, de = DE_PSD(data, stft_para)\n",
                "print(psd[0][0])\n",
                "for c in range(62):\n",
                "    psd[c] = psd[c].T\n",
                "    de[c] = de[c].T\n",
                "    for fb in range(5):\n",
                "        psd[c, fb] = kf.smooth(psd[c, fb]).observations.mean\n",
                "        de[c, fb] = kf.smooth(de[c, fb]).observations.mean\n",
                "print(psd[0][0])\n",
                "\n",
                "# data1 = \n",
                "# smoothed1 = kf.smooth(data1)\n",
                "# print(smoothed1)\n",
                "\n",
                "# x = np.arange(5)\n",
                "# plt.plot(x, data1, label='data1')\n",
                "# plt.plot(x, smoothed1.observations.mean, label='smoothed1')\n",
                "# plt.legend()"
            ]
        },
        {
            "cell_type": "code",
            "execution_count": null,
            "metadata": {},
            "outputs": [],
            "source": [
                "a = np.ones((2, 3, 3))\n",
                "a"
            ]
        },
        {
            "cell_type": "code",
            "execution_count": null,
            "metadata": {},
            "outputs": [],
            "source": [
                "a[0, 0] = [2, 2, 2]\n",
                "a[1, 0] = [3, 3, 3]\n",
                "a"
            ]
        },
        {
            "cell_type": "code",
            "execution_count": null,
            "metadata": {},
            "outputs": [],
            "source": [
                "a[0].T"
            ]
        },
        {
            "cell_type": "code",
            "execution_count": null,
            "metadata": {},
            "outputs": [],
            "source": [
                "a[0] = a[0].T\n",
                "a"
            ]
        }
    ],
    "metadata": {
        "interpreter": {
            "hash": "26f1ccde8135369abc8b168f731376d5b4ee9cdc65b504750b4a7709884cf767"
        },
        "kernelspec": {
            "display_name": "Python 3.8.5 64-bit",
            "name": "python3"
        },
        "language_info": {
            "codemirror_mode": {
                "name": "ipython",
                "version": 3
            },
            "file_extension": ".py",
            "mimetype": "text/x-python",
            "name": "python",
            "nbconvert_exporter": "python",
            "pygments_lexer": "ipython3",
            "version": "3.8.5"
        },
        "orig_nbformat": 4
    },
    "nbformat": 4,
    "nbformat_minor": 2
}
